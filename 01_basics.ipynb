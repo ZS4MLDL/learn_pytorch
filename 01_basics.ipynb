{
  "nbformat": 4,
  "nbformat_minor": 0,
  "metadata": {
    "colab": {
      "provenance": [],
      "authorship_tag": "ABX9TyPGE817Ea9U6DaC9jYfoUPo",
      "include_colab_link": true
    },
    "kernelspec": {
      "name": "python3",
      "display_name": "Python 3"
    },
    "language_info": {
      "name": "python"
    }
  },
  "cells": [
    {
      "cell_type": "markdown",
      "metadata": {
        "id": "view-in-github",
        "colab_type": "text"
      },
      "source": [
        "<a href=\"https://colab.research.google.com/github/ZS4MLDL/learn_pytorch/blob/main/01_basics.ipynb\" target=\"_parent\"><img src=\"https://colab.research.google.com/assets/colab-badge.svg\" alt=\"Open In Colab\"/></a>"
      ]
    },
    {
      "cell_type": "code",
      "execution_count": null,
      "metadata": {
        "id": "3FjDrQ98ZsIh"
      },
      "outputs": [],
      "source": []
    },
    {
      "cell_type": "code",
      "source": [
        "import torch"
      ],
      "metadata": {
        "id": "yVAH7Y-1yR0H"
      },
      "execution_count": null,
      "outputs": []
    },
    {
      "cell_type": "code",
      "source": [
        "scalar = torch.tensor(1)\n",
        "print(scalar)\n",
        "print(scalar.item())\n",
        "print(scalar.ndim)"
      ],
      "metadata": {
        "colab": {
          "base_uri": "https://localhost:8080/"
        },
        "id": "HyyeOTK3cNM3",
        "outputId": "0a3d1b33-acb5-44af-995b-a104712d4f2c"
      },
      "execution_count": null,
      "outputs": [
        {
          "output_type": "stream",
          "name": "stdout",
          "text": [
            "tensor(1)\n",
            "1\n",
            "0\n"
          ]
        }
      ]
    },
    {
      "cell_type": "code",
      "source": [
        "vector = torch.tensor([1, 2])\n",
        "print(vector)\n",
        "print(vector.ndim)\n",
        "print(vector.shape)"
      ],
      "metadata": {
        "colab": {
          "base_uri": "https://localhost:8080/"
        },
        "id": "Mx1AOymkdcMC",
        "outputId": "86da52ae-2e30-4ac2-8db4-3de74f7ca994"
      },
      "execution_count": null,
      "outputs": [
        {
          "output_type": "stream",
          "name": "stdout",
          "text": [
            "tensor([1, 2])\n",
            "1\n",
            "torch.Size([2])\n"
          ]
        }
      ]
    },
    {
      "cell_type": "code",
      "source": [
        "vector = torch.tensor([[1,1]])\n",
        "print(vector)\n",
        "print(vector.ndim)"
      ],
      "metadata": {
        "colab": {
          "base_uri": "https://localhost:8080/"
        },
        "id": "OLSI-kJPdghk",
        "outputId": "9271b21e-ecac-416e-fe9d-950cafde0ffe"
      },
      "execution_count": null,
      "outputs": [
        {
          "output_type": "stream",
          "name": "stdout",
          "text": [
            "tensor([[1, 1]])\n",
            "2\n"
          ]
        }
      ]
    },
    {
      "cell_type": "code",
      "source": [
        "vector = torch.tensor([[[1,3,2],[1,4,5]]])\n",
        "print(vector)\n",
        "print(vector.ndim)\n",
        "print(vector.shape)"
      ],
      "metadata": {
        "colab": {
          "base_uri": "https://localhost:8080/"
        },
        "id": "J660aqlQdoaV",
        "outputId": "13fd940d-6024-4cfb-bced-9d19b15d05b4"
      },
      "execution_count": null,
      "outputs": [
        {
          "output_type": "stream",
          "name": "stdout",
          "text": [
            "tensor([[[1, 3, 2],\n",
            "         [1, 4, 5]]])\n",
            "3\n",
            "torch.Size([1, 2, 3])\n"
          ]
        }
      ]
    },
    {
      "cell_type": "code",
      "source": [
        "vector = torch.tensor([[[[1,3,2],[1,4,5]]]])\n",
        "print(vector)\n",
        "print(vector.ndim)\n",
        "print(vector.shape)"
      ],
      "metadata": {
        "colab": {
          "base_uri": "https://localhost:8080/"
        },
        "id": "DuI0tsKigm6y",
        "outputId": "80b2390a-559e-45dc-806f-bced3f5fc347"
      },
      "execution_count": null,
      "outputs": [
        {
          "output_type": "stream",
          "name": "stdout",
          "text": [
            "tensor([[[[1, 3, 2],\n",
            "          [1, 4, 5]]]])\n",
            "4\n",
            "torch.Size([1, 1, 2, 3])\n"
          ]
        }
      ]
    },
    {
      "cell_type": "code",
      "source": [
        "vector = torch.tensor([[[[[1,3,2],[1,4,5]]]]])\n",
        "print(vector)\n",
        "print(vector.ndim)\n",
        "print(vector.shape)"
      ],
      "metadata": {
        "colab": {
          "base_uri": "https://localhost:8080/"
        },
        "id": "5c_IV-9Kg7oa",
        "outputId": "b1540fe7-16f2-404a-89e7-93c4b198639a"
      },
      "execution_count": null,
      "outputs": [
        {
          "output_type": "stream",
          "name": "stdout",
          "text": [
            "tensor([[[[[1, 3, 2],\n",
            "           [1, 4, 5]]]]])\n",
            "5\n",
            "torch.Size([1, 1, 1, 2, 3])\n"
          ]
        }
      ]
    },
    {
      "cell_type": "code",
      "source": [
        "random = torch.rand(size=(2, 2, 2, 1))\n",
        "print(random)\n",
        "print(random.ndim)"
      ],
      "metadata": {
        "colab": {
          "base_uri": "https://localhost:8080/"
        },
        "id": "SZEAahKPhEza",
        "outputId": "1d3f9847-22b5-4779-d0b4-232d7d63ea39"
      },
      "execution_count": null,
      "outputs": [
        {
          "output_type": "stream",
          "name": "stdout",
          "text": [
            "tensor([[[[0.1303],\n",
            "          [0.7591]],\n",
            "\n",
            "         [[0.7390],\n",
            "          [0.0276]]],\n",
            "\n",
            "\n",
            "        [[[0.6570],\n",
            "          [0.4019]],\n",
            "\n",
            "         [[0.4195],\n",
            "          [0.0127]]]])\n",
            "4\n"
          ]
        }
      ]
    },
    {
      "cell_type": "code",
      "source": [
        "ones = torch.zeros(size=(2,2))\n",
        "print(ones)"
      ],
      "metadata": {
        "colab": {
          "base_uri": "https://localhost:8080/"
        },
        "id": "MpB7pQBjhctN",
        "outputId": "8c614320-0f3b-4c61-c0a9-31fbee4edaca"
      },
      "execution_count": null,
      "outputs": [
        {
          "output_type": "stream",
          "name": "stdout",
          "text": [
            "tensor([[0., 0.],\n",
            "        [0., 0.]])\n"
          ]
        }
      ]
    },
    {
      "cell_type": "code",
      "source": [
        "zeros = torch.zeros(size=(1,2))\n",
        "print(zeros)"
      ],
      "metadata": {
        "colab": {
          "base_uri": "https://localhost:8080/"
        },
        "id": "ugtCYMdWiJ6n",
        "outputId": "9dfeb75a-f735-4074-9a6a-0e937c7833a2"
      },
      "execution_count": null,
      "outputs": [
        {
          "output_type": "stream",
          "name": "stdout",
          "text": [
            "tensor([[0., 0.]])\n"
          ]
        }
      ]
    },
    {
      "cell_type": "code",
      "source": [
        "x = torch.arange(start=1, end=10, step=2)\n",
        "print(x)"
      ],
      "metadata": {
        "colab": {
          "base_uri": "https://localhost:8080/"
        },
        "id": "WLJWujs4iQy3",
        "outputId": "a33fb9ca-e268-486e-d2d3-1e22c2d763d9"
      },
      "execution_count": null,
      "outputs": [
        {
          "output_type": "stream",
          "name": "stdout",
          "text": [
            "tensor([1, 3, 5, 7, 9])\n"
          ]
        }
      ]
    },
    {
      "cell_type": "code",
      "source": [
        "zero_like = torch.zeros_like(x)\n",
        "print(zero_like)"
      ],
      "metadata": {
        "colab": {
          "base_uri": "https://localhost:8080/"
        },
        "id": "PgBVgpbgi3Z_",
        "outputId": "257d6192-d3d4-43f7-c546-58debad09217"
      },
      "execution_count": null,
      "outputs": [
        {
          "output_type": "stream",
          "name": "stdout",
          "text": [
            "tensor([0, 0, 0, 0, 0])\n"
          ]
        }
      ]
    },
    {
      "cell_type": "code",
      "source": [
        "one_like = torch.ones_like(x)\n",
        "print(one_like)"
      ],
      "metadata": {
        "colab": {
          "base_uri": "https://localhost:8080/"
        },
        "id": "xjeOuiiujReU",
        "outputId": "11d159cd-facd-4e4e-ffc9-3ce2463a21a0"
      },
      "execution_count": null,
      "outputs": [
        {
          "output_type": "stream",
          "name": "stdout",
          "text": [
            "tensor([1, 1, 1, 1, 1])\n"
          ]
        }
      ]
    },
    {
      "cell_type": "code",
      "source": [
        "eye = torch.eye(5)\n",
        "print(eye)"
      ],
      "metadata": {
        "colab": {
          "base_uri": "https://localhost:8080/"
        },
        "id": "FDAEuEJhjZ7q",
        "outputId": "aa553856-9e8b-4103-c414-12caf37593f4"
      },
      "execution_count": null,
      "outputs": [
        {
          "output_type": "stream",
          "name": "stdout",
          "text": [
            "tensor([[1., 0., 0., 0., 0.],\n",
            "        [0., 1., 0., 0., 0.],\n",
            "        [0., 0., 1., 0., 0.],\n",
            "        [0., 0., 0., 1., 0.],\n",
            "        [0., 0., 0., 0., 1.]])\n"
          ]
        }
      ]
    },
    {
      "cell_type": "code",
      "source": [
        "full = torch.full((2, 2), 7)\n",
        "print(full)"
      ],
      "metadata": {
        "colab": {
          "base_uri": "https://localhost:8080/"
        },
        "id": "idpyTbwAjku5",
        "outputId": "b847b78a-befd-4a99-b2b3-3f2b037d6a81"
      },
      "execution_count": null,
      "outputs": [
        {
          "output_type": "stream",
          "name": "stdout",
          "text": [
            "tensor([[7, 7],\n",
            "        [7, 7]])\n"
          ]
        }
      ]
    },
    {
      "cell_type": "code",
      "source": [
        "linear_space = torch.linspace(1, 10, 100)\n",
        "print(linear_space)"
      ],
      "metadata": {
        "colab": {
          "base_uri": "https://localhost:8080/"
        },
        "id": "tWmoGXv7j2gc",
        "outputId": "c9e7fe2f-3156-487e-a039-d1a0f1a6f103"
      },
      "execution_count": null,
      "outputs": [
        {
          "output_type": "stream",
          "name": "stdout",
          "text": [
            "tensor([ 1.0000,  1.0909,  1.1818,  1.2727,  1.3636,  1.4545,  1.5455,  1.6364,\n",
            "         1.7273,  1.8182,  1.9091,  2.0000,  2.0909,  2.1818,  2.2727,  2.3636,\n",
            "         2.4545,  2.5455,  2.6364,  2.7273,  2.8182,  2.9091,  3.0000,  3.0909,\n",
            "         3.1818,  3.2727,  3.3636,  3.4545,  3.5455,  3.6364,  3.7273,  3.8182,\n",
            "         3.9091,  4.0000,  4.0909,  4.1818,  4.2727,  4.3636,  4.4545,  4.5455,\n",
            "         4.6364,  4.7273,  4.8182,  4.9091,  5.0000,  5.0909,  5.1818,  5.2727,\n",
            "         5.3636,  5.4545,  5.5455,  5.6364,  5.7273,  5.8182,  5.9091,  6.0000,\n",
            "         6.0909,  6.1818,  6.2727,  6.3636,  6.4545,  6.5455,  6.6364,  6.7273,\n",
            "         6.8182,  6.9091,  7.0000,  7.0909,  7.1818,  7.2727,  7.3636,  7.4545,\n",
            "         7.5455,  7.6364,  7.7273,  7.8182,  7.9091,  8.0000,  8.0909,  8.1818,\n",
            "         8.2727,  8.3636,  8.4545,  8.5455,  8.6364,  8.7273,  8.8182,  8.9091,\n",
            "         9.0000,  9.0909,  9.1818,  9.2727,  9.3636,  9.4545,  9.5455,  9.6364,\n",
            "         9.7273,  9.8182,  9.9091, 10.0000])\n"
          ]
        }
      ]
    },
    {
      "cell_type": "code",
      "source": [
        "int_ = torch.arange(1,10, dtype=int)\n",
        "print(int_)\n",
        "float_ = torch.arange(1,10)\n",
        "print(float_)"
      ],
      "metadata": {
        "colab": {
          "base_uri": "https://localhost:8080/"
        },
        "id": "uMo8nv83kdgD",
        "outputId": "27c72f9c-7faf-4a75-b02e-e4a5f171d17b"
      },
      "execution_count": null,
      "outputs": [
        {
          "output_type": "stream",
          "name": "stdout",
          "text": [
            "tensor([1, 2, 3, 4, 5, 6, 7, 8, 9])\n",
            "tensor([1, 2, 3, 4, 5, 6, 7, 8, 9])\n"
          ]
        }
      ]
    },
    {
      "cell_type": "code",
      "source": [
        "float_= float_.type(torch.float16)\n",
        "print(float_)"
      ],
      "metadata": {
        "colab": {
          "base_uri": "https://localhost:8080/"
        },
        "id": "KeL3bNbmmlfl",
        "outputId": "9b0967ae-ae89-4de1-d780-e64c25f10ee9"
      },
      "execution_count": null,
      "outputs": [
        {
          "output_type": "stream",
          "name": "stdout",
          "text": [
            "tensor([1., 2., 3., 4., 5., 6., 7., 8., 9.], dtype=torch.float16)\n"
          ]
        }
      ]
    },
    {
      "cell_type": "code",
      "source": [
        "tensor1 = torch.tensor([2, 3, 1])\n",
        "tensor1 + 2"
      ],
      "metadata": {
        "colab": {
          "base_uri": "https://localhost:8080/"
        },
        "id": "dji6ugIqpn3i",
        "outputId": "6d25291b-0228-48bd-8c90-4c709f136236"
      },
      "execution_count": null,
      "outputs": [
        {
          "output_type": "execute_result",
          "data": {
            "text/plain": [
              "tensor([4, 5, 3])"
            ]
          },
          "metadata": {},
          "execution_count": 63
        }
      ]
    },
    {
      "cell_type": "code",
      "source": [
        "tensor2 = torch.tensor([1,2,3])\n",
        "tensor2 - 10"
      ],
      "metadata": {
        "colab": {
          "base_uri": "https://localhost:8080/"
        },
        "id": "Ahp9EXTwrBZp",
        "outputId": "f1bf99d8-b09b-4cf2-b91f-c25f68211eba"
      },
      "execution_count": null,
      "outputs": [
        {
          "output_type": "execute_result",
          "data": {
            "text/plain": [
              "tensor([-9, -8, -7])"
            ]
          },
          "metadata": {},
          "execution_count": 60
        }
      ]
    },
    {
      "cell_type": "code",
      "source": [
        "add = torch.add(tensor1, tensor2)\n",
        "print(add)"
      ],
      "metadata": {
        "colab": {
          "base_uri": "https://localhost:8080/"
        },
        "id": "KxWB_d3rrn38",
        "outputId": "aa436f89-4190-46da-b712-e60235c9bfff"
      },
      "execution_count": null,
      "outputs": [
        {
          "output_type": "stream",
          "name": "stdout",
          "text": [
            "tensor([3, 5, 4])\n"
          ]
        }
      ]
    },
    {
      "cell_type": "code",
      "source": [
        "add * 10"
      ],
      "metadata": {
        "colab": {
          "base_uri": "https://localhost:8080/"
        },
        "id": "ulp_0lPjryZ2",
        "outputId": "0c67aa8d-ef53-46ac-c07a-9c22478c63eb"
      },
      "execution_count": null,
      "outputs": [
        {
          "output_type": "execute_result",
          "data": {
            "text/plain": [
              "tensor([30, 50, 40])"
            ]
          },
          "metadata": {},
          "execution_count": 65
        }
      ]
    },
    {
      "cell_type": "code",
      "source": [
        "torch.mul(tensor2, add)"
      ],
      "metadata": {
        "colab": {
          "base_uri": "https://localhost:8080/"
        },
        "id": "s5e4bEamsBSh",
        "outputId": "77f49797-1454-4abe-d4b4-32d37218ff84"
      },
      "execution_count": null,
      "outputs": [
        {
          "output_type": "execute_result",
          "data": {
            "text/plain": [
              "tensor([ 3, 10, 12])"
            ]
          },
          "metadata": {},
          "execution_count": 66
        }
      ]
    },
    {
      "cell_type": "code",
      "source": [
        "add / 10"
      ],
      "metadata": {
        "colab": {
          "base_uri": "https://localhost:8080/"
        },
        "id": "VrljSg_UsGNE",
        "outputId": "778fe7f7-af65-4025-b748-1a93c12883c5"
      },
      "execution_count": null,
      "outputs": [
        {
          "output_type": "execute_result",
          "data": {
            "text/plain": [
              "tensor([0.3000, 0.5000, 0.4000])"
            ]
          },
          "metadata": {},
          "execution_count": 67
        }
      ]
    },
    {
      "cell_type": "code",
      "source": [
        "tensor1 @ tensor2"
      ],
      "metadata": {
        "colab": {
          "base_uri": "https://localhost:8080/"
        },
        "id": "4vWZJjFuslF7",
        "outputId": "ef72ad2b-76d1-4e52-c9c0-c3d14ef9b693"
      },
      "execution_count": null,
      "outputs": [
        {
          "output_type": "execute_result",
          "data": {
            "text/plain": [
              "tensor(11)"
            ]
          },
          "metadata": {},
          "execution_count": 68
        }
      ]
    },
    {
      "cell_type": "code",
      "source": [
        "torch.matmul(tensor1, tensor2)"
      ],
      "metadata": {
        "colab": {
          "base_uri": "https://localhost:8080/"
        },
        "id": "8sZgxYs_tS8B",
        "outputId": "5b81d26e-310e-4032-cd18-4be19e12fd69"
      },
      "execution_count": null,
      "outputs": [
        {
          "output_type": "execute_result",
          "data": {
            "text/plain": [
              "tensor(11)"
            ]
          },
          "metadata": {},
          "execution_count": 73
        }
      ]
    },
    {
      "cell_type": "code",
      "source": [
        "tensor1.shape"
      ],
      "metadata": {
        "colab": {
          "base_uri": "https://localhost:8080/"
        },
        "id": "-Ay5xqWv1B6W",
        "outputId": "2212286d-f6dd-4fbe-ecfe-aabdee20d47e"
      },
      "execution_count": null,
      "outputs": [
        {
          "output_type": "execute_result",
          "data": {
            "text/plain": [
              "torch.Size([3])"
            ]
          },
          "metadata": {},
          "execution_count": 79
        }
      ]
    },
    {
      "cell_type": "code",
      "source": [
        "tensor2, tensor2.shape"
      ],
      "metadata": {
        "colab": {
          "base_uri": "https://localhost:8080/"
        },
        "id": "mwYxvoqq1IGS",
        "outputId": "b1fe1392-52b5-4e0e-c4c6-1251e64171b7"
      },
      "execution_count": null,
      "outputs": [
        {
          "output_type": "execute_result",
          "data": {
            "text/plain": [
              "(tensor([1, 2, 3]), torch.Size([3]))"
            ]
          },
          "metadata": {},
          "execution_count": 89
        }
      ]
    },
    {
      "cell_type": "code",
      "source": [
        "torch.min(tensor1)"
      ],
      "metadata": {
        "colab": {
          "base_uri": "https://localhost:8080/"
        },
        "id": "0lGSASpJ3BiE",
        "outputId": "8e4331cf-9c2b-4a3c-8033-b449f63da40e"
      },
      "execution_count": null,
      "outputs": [
        {
          "output_type": "execute_result",
          "data": {
            "text/plain": [
              "tensor(1)"
            ]
          },
          "metadata": {},
          "execution_count": 81
        }
      ]
    },
    {
      "cell_type": "code",
      "source": [
        "torch.max(tensor2)"
      ],
      "metadata": {
        "colab": {
          "base_uri": "https://localhost:8080/"
        },
        "id": "zjoVrjF-3l4E",
        "outputId": "26f681e6-3e02-4cc9-bac7-e3691827e16e"
      },
      "execution_count": null,
      "outputs": [
        {
          "output_type": "execute_result",
          "data": {
            "text/plain": [
              "tensor(3)"
            ]
          },
          "metadata": {},
          "execution_count": 82
        }
      ]
    },
    {
      "cell_type": "code",
      "source": [
        "torch.mean(tensor2.type(torch.float16))"
      ],
      "metadata": {
        "colab": {
          "base_uri": "https://localhost:8080/"
        },
        "id": "2PF0TL7W3pHu",
        "outputId": "8039f20c-e635-4505-d4c0-c4e37091e32a"
      },
      "execution_count": null,
      "outputs": [
        {
          "output_type": "execute_result",
          "data": {
            "text/plain": [
              "tensor(2., dtype=torch.float16)"
            ]
          },
          "metadata": {},
          "execution_count": 86
        }
      ]
    },
    {
      "cell_type": "code",
      "source": [
        "tensor2.argmin()"
      ],
      "metadata": {
        "colab": {
          "base_uri": "https://localhost:8080/"
        },
        "id": "5pvoEEDD3tCx",
        "outputId": "fe0f2725-97e3-442f-93bc-4abdcff5e855"
      },
      "execution_count": null,
      "outputs": [
        {
          "output_type": "execute_result",
          "data": {
            "text/plain": [
              "tensor(0)"
            ]
          },
          "metadata": {},
          "execution_count": 88
        }
      ]
    },
    {
      "cell_type": "code",
      "source": [
        "tensor2.argmax()"
      ],
      "metadata": {
        "colab": {
          "base_uri": "https://localhost:8080/"
        },
        "id": "-AUBIM_d40bE",
        "outputId": "4f0d0541-9905-4877-e6e6-d41cc7aa77ed"
      },
      "execution_count": null,
      "outputs": [
        {
          "output_type": "execute_result",
          "data": {
            "text/plain": [
              "tensor(2)"
            ]
          },
          "metadata": {},
          "execution_count": 90
        }
      ]
    },
    {
      "cell_type": "code",
      "source": [
        "tensor3 = torch.arange(1, 10, 0.5)\n",
        "tensor3"
      ],
      "metadata": {
        "colab": {
          "base_uri": "https://localhost:8080/"
        },
        "id": "G2hTDC1v5Dfy",
        "outputId": "a1caafa4-bae3-4029-dbbb-f9815508702f"
      },
      "execution_count": null,
      "outputs": [
        {
          "output_type": "execute_result",
          "data": {
            "text/plain": [
              "tensor([1.0000, 1.5000, 2.0000, 2.5000, 3.0000, 3.5000, 4.0000, 4.5000, 5.0000,\n",
              "        5.5000, 6.0000, 6.5000, 7.0000, 7.5000, 8.0000, 8.5000, 9.0000, 9.5000])"
            ]
          },
          "metadata": {},
          "execution_count": 95
        }
      ]
    },
    {
      "cell_type": "code",
      "source": [
        "tensor3.reshape(3, 6)"
      ],
      "metadata": {
        "colab": {
          "base_uri": "https://localhost:8080/"
        },
        "id": "_vELSJy952Wr",
        "outputId": "e5798304-61f0-42b5-feec-66f3a46986cc"
      },
      "execution_count": null,
      "outputs": [
        {
          "output_type": "execute_result",
          "data": {
            "text/plain": [
              "tensor([[1.0000, 1.5000, 2.0000, 2.5000, 3.0000, 3.5000],\n",
              "        [4.0000, 4.5000, 5.0000, 5.5000, 6.0000, 6.5000],\n",
              "        [7.0000, 7.5000, 8.0000, 8.5000, 9.0000, 9.5000]])"
            ]
          },
          "metadata": {},
          "execution_count": 99
        }
      ]
    },
    {
      "cell_type": "code",
      "source": [
        "tensor3.view((2, 9))"
      ],
      "metadata": {
        "colab": {
          "base_uri": "https://localhost:8080/"
        },
        "id": "oAsAAO-q6cv8",
        "outputId": "1c8ce88d-8385-4927-f95f-e655d2d47224"
      },
      "execution_count": null,
      "outputs": [
        {
          "output_type": "execute_result",
          "data": {
            "text/plain": [
              "tensor([[1.0000, 1.5000, 2.0000, 2.5000, 3.0000, 3.5000, 4.0000, 4.5000, 5.0000],\n",
              "        [5.5000, 6.0000, 6.5000, 7.0000, 7.5000, 8.0000, 8.5000, 9.0000, 9.5000]])"
            ]
          },
          "metadata": {},
          "execution_count": 103
        }
      ]
    },
    {
      "cell_type": "code",
      "source": [
        "tensor_stacked = torch.arange(10, 20,0.5)"
      ],
      "metadata": {
        "id": "YTDs432u7VY7"
      },
      "execution_count": null,
      "outputs": []
    },
    {
      "cell_type": "code",
      "source": [
        "torch.stack([tensor_stacked,tensor_stacked,tensor_stacked], dim=1)"
      ],
      "metadata": {
        "colab": {
          "base_uri": "https://localhost:8080/"
        },
        "id": "7-9ItwSH8leF",
        "outputId": "ca0f5f0f-bd9d-4780-ad64-6220a5d0641f"
      },
      "execution_count": null,
      "outputs": [
        {
          "output_type": "execute_result",
          "data": {
            "text/plain": [
              "tensor([[10.0000, 10.0000, 10.0000],\n",
              "        [10.5000, 10.5000, 10.5000],\n",
              "        [11.0000, 11.0000, 11.0000],\n",
              "        [11.5000, 11.5000, 11.5000],\n",
              "        [12.0000, 12.0000, 12.0000],\n",
              "        [12.5000, 12.5000, 12.5000],\n",
              "        [13.0000, 13.0000, 13.0000],\n",
              "        [13.5000, 13.5000, 13.5000],\n",
              "        [14.0000, 14.0000, 14.0000],\n",
              "        [14.5000, 14.5000, 14.5000],\n",
              "        [15.0000, 15.0000, 15.0000],\n",
              "        [15.5000, 15.5000, 15.5000],\n",
              "        [16.0000, 16.0000, 16.0000],\n",
              "        [16.5000, 16.5000, 16.5000],\n",
              "        [17.0000, 17.0000, 17.0000],\n",
              "        [17.5000, 17.5000, 17.5000],\n",
              "        [18.0000, 18.0000, 18.0000],\n",
              "        [18.5000, 18.5000, 18.5000],\n",
              "        [19.0000, 19.0000, 19.0000],\n",
              "        [19.5000, 19.5000, 19.5000]])"
            ]
          },
          "metadata": {},
          "execution_count": 107
        }
      ]
    },
    {
      "cell_type": "code",
      "source": [
        "import torch"
      ],
      "metadata": {
        "id": "gGHrNUr38sUi"
      },
      "execution_count": null,
      "outputs": []
    },
    {
      "cell_type": "code",
      "source": [
        "x = torch.tensor([[1,2,3], [2,3,4]])\n",
        "x.shape"
      ],
      "metadata": {
        "colab": {
          "base_uri": "https://localhost:8080/"
        },
        "id": "TrdqFckxm2hG",
        "outputId": "89e9845f-a860-49d6-c368-bc2edbe2eea2"
      },
      "execution_count": null,
      "outputs": [
        {
          "output_type": "execute_result",
          "data": {
            "text/plain": [
              "torch.Size([2, 3])"
            ]
          },
          "metadata": {},
          "execution_count": 21
        }
      ]
    },
    {
      "cell_type": "code",
      "source": [
        "x = x.unsqueeze(dim=0)\n",
        "x.shape, x"
      ],
      "metadata": {
        "colab": {
          "base_uri": "https://localhost:8080/"
        },
        "id": "g8ZeRV2AnLWn",
        "outputId": "4ec6f2f3-adb2-4700-d911-4b282b076fb2"
      },
      "execution_count": null,
      "outputs": [
        {
          "output_type": "execute_result",
          "data": {
            "text/plain": [
              "(torch.Size([1, 2, 3]),\n",
              " tensor([[[1, 2, 3],\n",
              "          [2, 3, 4]]]))"
            ]
          },
          "metadata": {},
          "execution_count": 22
        }
      ]
    },
    {
      "cell_type": "code",
      "source": [
        "x = x.unsqueeze(dim=1)\n",
        "x, x.shape"
      ],
      "metadata": {
        "colab": {
          "base_uri": "https://localhost:8080/"
        },
        "id": "V2cSEYmlnVf6",
        "outputId": "6657bbaa-e291-4bb9-85f6-e827582d3809"
      },
      "execution_count": null,
      "outputs": [
        {
          "output_type": "execute_result",
          "data": {
            "text/plain": [
              "(tensor([[[[1, 2, 3],\n",
              "           [2, 3, 4]]]]),\n",
              " torch.Size([1, 1, 2, 3]))"
            ]
          },
          "metadata": {},
          "execution_count": 23
        }
      ]
    },
    {
      "cell_type": "code",
      "source": [
        "x = x.squeeze(dim=0)\n",
        "x.shape"
      ],
      "metadata": {
        "colab": {
          "base_uri": "https://localhost:8080/"
        },
        "id": "1ZRedESzns8N",
        "outputId": "74bfffb0-274f-4011-ccc4-c7628c6c6c2f"
      },
      "execution_count": null,
      "outputs": [
        {
          "output_type": "execute_result",
          "data": {
            "text/plain": [
              "torch.Size([2, 3])"
            ]
          },
          "metadata": {},
          "execution_count": 30
        }
      ]
    },
    {
      "cell_type": "code",
      "source": [
        "#permute"
      ],
      "metadata": {
        "id": "DsAnDwDkoy2P"
      },
      "execution_count": 2,
      "outputs": []
    },
    {
      "cell_type": "code",
      "source": [],
      "metadata": {
        "id": "6-jVJXwxZ1Qt"
      },
      "execution_count": null,
      "outputs": []
    }
  ]
}