{
  "nbformat": 4,
  "nbformat_minor": 0,
  "metadata": {
    "colab": {
      "provenance": [],
      "authorship_tag": "ABX9TyM48obDTmZ5/PgQiEdmpF/L",
      "include_colab_link": true
    },
    "kernelspec": {
      "name": "python3",
      "display_name": "Python 3"
    },
    "language_info": {
      "name": "python"
    }
  },
  "cells": [
    {
      "cell_type": "markdown",
      "metadata": {
        "id": "view-in-github",
        "colab_type": "text"
      },
      "source": [
        "<a href=\"https://colab.research.google.com/github/ZS4MLDL/learn_pytorch/blob/main/Transformer_Scratch_Pytorch.ipynb\" target=\"_parent\"><img src=\"https://colab.research.google.com/assets/colab-badge.svg\" alt=\"Open In Colab\"/></a>"
      ]
    },
    {
      "cell_type": "code",
      "execution_count": null,
      "metadata": {
        "id": "oGcAuf207DOb"
      },
      "outputs": [],
      "source": [
        "import torch\n",
        "import torch.nn as nn\n",
        "from torch.utils.data import Dataset, DataLoader, randomsplit\n",
        "from torch.utils.tensorboard import SummaryWriter\n",
        "#Math\n",
        "import math\n",
        "#Hugging Face\n",
        "from datasets import load_dataset\n",
        "from tokenizers import Tokenizer\n",
        "from tokenizers.models import WordLevel\n",
        "from tokenizers.trainers import WordLevel\n",
        "from tokenizers.   import Whitespace\n",
        "\n",
        "from pathlib import path\n",
        "from tqdm import tqdm\n",
        "from typing import Any\n",
        "import warnings\n",
        "\n",
        "!pip install datasets"
      ]
    },
    {
      "cell_type": "code",
      "source": [
        "class InputEmbeddings(nn.Module):\n",
        "  def __init__(self, d_model:int, vocab_size:int):\n",
        "    super().__init__()\n",
        "    self.d_model = d_model\n",
        "    self.vocab_size = vocab_size\n",
        "    self.embedding = nn.Embedding(vocab_size, d_model)\n",
        "\n",
        "    def forward(self, x):\n",
        "      return self.embedding(x) * math.sqrt(self.d_model)"
      ],
      "metadata": {
        "id": "Ib0kyIUpWJP-"
      },
      "execution_count": null,
      "outputs": []
    },
    {
      "cell_type": "code",
      "source": [
        "class PositionalEncoding(nn.Module):\n",
        "  def __init__(self, d_model:int, seq_len:int,drop_out:float):\n",
        "    super().__init__()\n",
        "    self.d_model = d_model\n",
        "    self.seq_len = seq_len\n",
        "    self.drop_out = nn.Dropout(drop_out)\n",
        "\n",
        "    pe = torch.zero(seq_len, d_model)\n",
        "    position = torch.arange(0, seq_len, dtype=torch.float).unsqueeze(1) #[seq_len, 1]\n",
        "    div_term = torch.exp(torch.arange(0,d_model,2).float() * (-math.log(10000.0)/d_model))\n",
        "    pe[:, 0::2] = torch.sin(position * div_term)\n",
        "    pe[:, 1::2] = torch.cos(position * div_term)\n",
        "    pe = pe.unsqueeze(0)\n",
        "    self.register_buffer('pe', pe)\n",
        "\n",
        "  def forward(self, x):\n",
        "    x = x+ (self.pe[:,:[x.shape[1],:]]).requires_grad(False)\n",
        "    return self.dropout(x)\n",
        "\n",
        "\n"
      ],
      "metadata": {
        "id": "9CMuPi9-_46B"
      },
      "execution_count": null,
      "outputs": []
    },
    {
      "cell_type": "code",
      "source": [
        "class MultiHeadAttentionBlock(nn.Module):\n",
        "  def __init__(self,d_model:int,h:int,dropout:float) -> None:\n",
        "    super().__init__()\n",
        "    self.d_model = d_model\n",
        "    self.h = h\n",
        "    assert d_model % h == 0, \"d_model is not divisible by h\"\n",
        "\n",
        "    self.d_k = d_model//h\n",
        "    self.w_q = nn.Linear(d_model, d_model)\n",
        "    self.w.k = nn.Linear(d_model, d_model)\n",
        "    self.w_v = nn.Linear(d_model, d_model)\n",
        "    self.w_o = nn.Linear(d_model, d_model)\n",
        "    self.dropout = nn.Dropout(dropout)\n",
        "\n",
        "  @staticmethod\n",
        "  def attention(query, key, value, mask, dropout:nn.Dropout):\n",
        "    d_k = query.shap[-1]\n",
        "    attention_score = (query @ key.transpose(-2, -1)) / math.sqrt(d_k)\n",
        "\n",
        "    if mask is not None:\n",
        "      attention_score.masked_fill_(mask==0, -1e9)\n",
        "\n",
        "    attention_score = attention_score.softmax(dim=-1)\n",
        "\n",
        "    if dropout is not None:\n",
        "      attention_score = dropout(attention_score)\n",
        "\n",
        "    return (attention_score @ value), attention_score\n",
        "\n",
        "  def forward(self,q, k, v, mask):\n",
        "    query = self.w_q(q)\n",
        "    key = self.w_k(k)\n",
        "    value=self.w_v(v)\n",
        "\n",
        "    query = query.view(query.shape[0], query.shape[1], self.h,self.d_k).transpose(1,2)\n",
        "    key = key.view(key.shape[0], key.shape[1], self.h, self.d_k).transpose(1,2)\n",
        "    value = value.view(shape[0], shape[1], self.h, self.d_k).transpose(1,2)\n",
        "    x, self.attention_score = MultiHeadAttentionBlock.attention(query, key, value, mask, self.dropout)\n",
        "    x = x.transpose(1,2).contigous().view(x.shape[0], -1, self.h * self.d_k)\n",
        "    return self.w_o(x)\n"
      ],
      "metadata": {
        "id": "dScbXhimTAoA"
      },
      "execution_count": null,
      "outputs": []
    },
    {
      "cell_type": "code",
      "source": [
        "class LayerNormalization(nn.Module):\n",
        "  def __init__(self,eps:float=10**-6) -> None:\n",
        "    super().__init__()\n",
        "    self.eps = eps\n",
        "    self.alhpa = nn.Parameter(torch.ones(1))\n",
        "    self.bias = nn.Parameter(torch.zeros(1))\n",
        "\n",
        "  def forward(self, x):\n",
        "    mean = x.mean(dim=-1, keepdim=True)\n",
        "    std = x.std(dim=-1, keepdim=True)\n",
        "    return self.alpha*(x - mean)/(std + eps) + self.bias\n"
      ],
      "metadata": {
        "id": "6rLla_e6TAlJ"
      },
      "execution_count": null,
      "outputs": []
    },
    {
      "cell_type": "code",
      "source": [
        "class FeedForwardBlock(nn.Module):\n",
        "  def __init__(self, d_model:int,d_ff:int,dropout:float)->None:\n",
        "    super().__init__()\n",
        "    self.linear_1= nn.Linear(d_model, d_ff)\n",
        "    self.dropout= nn.Dropout(dropout)\n",
        "    self.linear_2 = nn.Linear(d_ff, d_model)\n",
        "\n",
        "  def forward(self,x):\n",
        "    return self.linear_2(self.droput(torch.relu(self.linear_1(x))))"
      ],
      "metadata": {
        "id": "Clwgz6FXTAie"
      },
      "execution_count": null,
      "outputs": []
    },
    {
      "cell_type": "code",
      "source": [
        "class ResidualConnection(nn.Module):\n",
        "  def __init__(self,dropout:float):\n",
        "    super().__init__()\n",
        "    self.dropout = nn.Dropout(dropouts)\n",
        "    self.norm = LayerNormaization()\n",
        "\n",
        "  def forward(self, x, sublayer):\n",
        "    #return x + self.dropout(self.norm(sublayer(x)))\n",
        "    return x + self.dropout(sublayer(self.norm(x)))\n"
      ],
      "metadata": {
        "id": "VuD_xBIqTAfv"
      },
      "execution_count": null,
      "outputs": []
    },
    {
      "cell_type": "code",
      "source": [
        "class EncoderBlock(nn.Module):\n",
        "  def __init__(self, self_attention_block:MultiHeadAttentionBlock, feed_forwardblock:FeedForwardBlock, dropout:float)->None:\n",
        "    super().__init__()\n",
        "    self.self_attention_block=self_attention_block\n",
        "    self.feed_forward_block=feed_forward_block\n",
        "    self.residual_connections=nn.ModuleList([ResidualConnection(dropout) for _ in range(2)])\n",
        "\n",
        "    def forward(sefl,x, src_mask):\n",
        "      x = self.residual_connections[0](x,lambda x:self.self_attention_block(x,x,x, src_mask))\n",
        "      return self.residual_connections[1](x,self.feed_forward_block)\n"
      ],
      "metadata": {
        "id": "8KAzhDjwTAdJ"
      },
      "execution_count": null,
      "outputs": []
    },
    {
      "cell_type": "code",
      "source": [
        "class Encoder(nn.Module):\n",
        "  def __init__(self, layers:nn.ModuleList)-> None:\n",
        "    super().__init__()\n",
        "    self.layers = layers\n",
        "    self.norm = LayerNormalization()\n",
        "\n",
        "  def forward(self, x, mask):\n",
        "    for layer in self.layers:\n",
        "      x =layer(x, mask)\n",
        "\n",
        "    return self.norm(x)"
      ],
      "metadata": {
        "id": "gPbEnW_STAae"
      },
      "execution_count": null,
      "outputs": []
    },
    {
      "cell_type": "code",
      "source": [
        "class DecoderBlock(nn.Module):\n",
        "  def __init__(self,self_attention_block:MultiHeadAttentionBlock,\n",
        "               cross_attention_block:MultiHeadAttentionBlock, feed_forward_block:FeedForwardBlock, dropout:float):\n",
        "    super().__init__()\n",
        "    self.self_attention_block = self_attention_block\n",
        "    self.cross_attention_block = cross_attention_block\n",
        "    self.feed_forward_block = feed_forward_block\n",
        "    self.residual_connections = nn.ModuleList([ResidualConnections(dropout) for _ in range(3)])\n",
        "\n",
        "  def forward(self, x, encoder_output,src_mask, tgt_mask):\n",
        "    x = self.residual_connections[0](x, lambda x:self.self_attention_block(x,x,x,tgt_mask))\n",
        "    x = self.residual_connections[1](x, lambda x:self.cross_attention_block(x,encoder_output, encoder_output, src_mask)\n",
        "    x = self.residual_connections[2](x, self.feed_forward_block)\n",
        "    return x"
      ],
      "metadata": {
        "id": "FIzThhTpTAXo"
      },
      "execution_count": null,
      "outputs": []
    },
    {
      "cell_type": "code",
      "source": [
        "class Decoder(nn.Module):\n",
        "  def __init__(self, layers:nn.ModuleList)->None:\n",
        "    super().__init__()\n",
        "    self.layers = layers\n",
        "    self.norm = LayerNormalization()\n",
        "\n",
        "  def forward(self,x , encoder_output, src_mask,tgt_mask):\n",
        "    for layer in self.layers:\n",
        "      x = layer(x,encoder_output, src_mask, tgt_mask)\n",
        "\n",
        "    return self.norm(x)"
      ],
      "metadata": {
        "id": "zQSbPpKzTAUw"
      },
      "execution_count": null,
      "outputs": []
    },
    {
      "cell_type": "code",
      "source": [
        "class ProjectionLayer(nn.Module):\n",
        "  def __init__(self, d_model:int, vocab_size:int)-> None:\n",
        "    super().__init__()\n",
        "    self.proj = nn.Linear(d_model, vocab_size)\n",
        "\n",
        "  def forward(self, x):\n",
        "    return torch.log_softmax(self.proj(x), dim=-1)"
      ],
      "metadata": {
        "id": "JUqiPbzFTASK"
      },
      "execution_count": null,
      "outputs": []
    },
    {
      "cell_type": "code",
      "source": [
        "class Transformer(nn.Module):\n",
        "  def __init__(self, encoder:Encoder, decoder:Decoder,\n",
        "               src_embed:InputEmbeddings, tgt_embed:InputEmbeddings,\n",
        "               src_pos:PositionalEncoding, tgt_pos:PositionalEncoding,\n",
        "               projection_layer:ProjectionLayer)->None:\n",
        "      super()__init__()\n",
        "      self.encoder = encoder\n",
        "      self.decoder = decoder\n",
        "      self.src_embed = src_embed\n",
        "      self.tgt_embed = tgt_embed\n",
        "      self.src_pos = src_pos\n",
        "      self.tgt_pos = tgt_pos\n",
        "      self.projection_layer = projection_layer\n",
        "\n",
        "  def encoder(self,src, src_mask):\n",
        "    src = self.src_embed(src)\n",
        "    src = self.src_pos(src)\n",
        "\n",
        "    return self.encoder(src, src_mask)\n",
        "\n",
        "  def decoder(self, encoder_output, src_mask, tgt, tgt_mask):\n",
        "    tgt = self.tgt_embed(tgt)\n",
        "    tgt = self.tgt_pos(tgt)\n",
        "\n",
        "    return self.decoder(tgt, encoder_output, src_mask,tgt_mask)\n",
        "\n",
        "  def project(self, x):\n",
        "    return self.projection_layer(x)\n"
      ],
      "metadata": {
        "id": "PKZQQsvGTAPX"
      },
      "execution_count": null,
      "outputs": []
    },
    {
      "cell_type": "code",
      "source": [
        "def build_transformer(src_vocab_size:int, tgt_vocab_size:int,\n",
        "                      src_seq_len:int, tgt_seq_len:int,\n",
        "                      d_model:int=512, N:int=6,h:int=8,\n",
        "                      dropout:float=0.1,d_ff:int=2048) ->Transformer:\n",
        "  src_embed = InputEmbeddings(d_model, src_vocab_size)\n",
        "  tgt_embed = InputEmbeddings(d_model, tgt_vocab_size)\n",
        "  src_pos = PositionalEmbedding(d_model, src_seq_len, dropout)\n",
        "  tgt_pos = PositionalEmbedding(d_model, tgt_seq_len  )\n",
        "  encoder_blocks = []\n",
        "  decoder_blocks = []\n",
        "  for _ in range(N):\n",
        "    encoder_self_attention_block = MultiHeadAttentionBlock(d_model,h,dropout)\n",
        "    feed_forward_block = FeedForwardBlock(d_model, d_ff,dropout)\n",
        "\n",
        "    encoder_block = EncoderBlock(encoder_self_attention_block, feed_forward_block, dropout)\n",
        "    encoder_block.append(encoder_block)\n",
        "\n",
        "  for _ in range(N):\n",
        "    decoder_self_attention_block = MultiHeadAttentionBlock(d_model, h, dropout)\n",
        "    decoder_cross_attention_block = MultiHeadAttentionBlock(d_model, h, dropout)\n",
        "    feed_forward_block = FeedForwardBlock(d_model, d_ff, dropout)\n",
        "    decoder_block = DecoderBlock(decoder_self_attention_block, decoder_cross_attention_block,feed_forward_block, dropout)\n",
        "    decoder_blocks.append(decoder_block)\n",
        "\n",
        "  encoder = Encoder(nn.ModuleList(encoder_blocks))\n",
        "  decoder = Decoder(nn.ModuleList(decoder_blocks))"
      ],
      "metadata": {
        "id": "49w4PfHcTAMf"
      },
      "execution_count": null,
      "outputs": []
    },
    {
      "cell_type": "code",
      "source": [],
      "metadata": {
        "id": "DNJIgeiSTAJn"
      },
      "execution_count": null,
      "outputs": []
    },
    {
      "cell_type": "code",
      "source": [],
      "metadata": {
        "id": "bTs5MmQITAG9"
      },
      "execution_count": null,
      "outputs": []
    },
    {
      "cell_type": "code",
      "source": [],
      "metadata": {
        "id": "lnBjCg_SS-xi"
      },
      "execution_count": null,
      "outputs": []
    }
  ]
}