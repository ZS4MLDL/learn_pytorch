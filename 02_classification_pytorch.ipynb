{
  "nbformat": 4,
  "nbformat_minor": 0,
  "metadata": {
    "colab": {
      "provenance": [],
      "authorship_tag": "ABX9TyOZ25liDWBhmTaQV2CoyloD",
      "include_colab_link": true
    },
    "kernelspec": {
      "name": "python3",
      "display_name": "Python 3"
    },
    "language_info": {
      "name": "python"
    }
  },
  "cells": [
    {
      "cell_type": "markdown",
      "metadata": {
        "id": "view-in-github",
        "colab_type": "text"
      },
      "source": [
        "<a href=\"https://colab.research.google.com/github/ZS4MLDL/learn_pytorch/blob/main/02_classification_pytorch.ipynb\" target=\"_parent\"><img src=\"https://colab.research.google.com/assets/colab-badge.svg\" alt=\"Open In Colab\"/></a>"
      ]
    },
    {
      "cell_type": "code",
      "execution_count": 1,
      "metadata": {
        "id": "myZBgaq-V5zv"
      },
      "outputs": [],
      "source": [
        "import torch\n",
        "import torch.nn as nn\n",
        "from torch.utils.data import DataLoader\n",
        "from torchvision import datasets, transforms\n",
        "import matplotlib.pyplot as plt"
      ]
    },
    {
      "cell_type": "code",
      "source": [
        "train_dataset = datasets.FashionMNIST(root=\"/dataset\", train=True,transform=transforms.ToTensor(), download=True)\n",
        "test_dataset = datasets.FashionMNIST(root=\"/dataset\", train=False, transform=transforms.ToTensor())"
      ],
      "metadata": {
        "id": "6QKSxL2yHDxh",
        "colab": {
          "base_uri": "https://localhost:8080/"
        },
        "outputId": "ceddeaa8-27e5-4a58-e4be-ac166b8c330d"
      },
      "execution_count": 2,
      "outputs": [
        {
          "output_type": "stream",
          "name": "stdout",
          "text": [
            "Downloading http://fashion-mnist.s3-website.eu-central-1.amazonaws.com/train-images-idx3-ubyte.gz\n",
            "Downloading http://fashion-mnist.s3-website.eu-central-1.amazonaws.com/train-images-idx3-ubyte.gz to /dataset/FashionMNIST/raw/train-images-idx3-ubyte.gz\n"
          ]
        },
        {
          "output_type": "stream",
          "name": "stderr",
          "text": [
            "100%|██████████| 26.4M/26.4M [00:01<00:00, 17.2MB/s]\n"
          ]
        },
        {
          "output_type": "stream",
          "name": "stdout",
          "text": [
            "Extracting /dataset/FashionMNIST/raw/train-images-idx3-ubyte.gz to /dataset/FashionMNIST/raw\n",
            "\n",
            "Downloading http://fashion-mnist.s3-website.eu-central-1.amazonaws.com/train-labels-idx1-ubyte.gz\n",
            "Downloading http://fashion-mnist.s3-website.eu-central-1.amazonaws.com/train-labels-idx1-ubyte.gz to /dataset/FashionMNIST/raw/train-labels-idx1-ubyte.gz\n"
          ]
        },
        {
          "output_type": "stream",
          "name": "stderr",
          "text": [
            "100%|██████████| 29.5k/29.5k [00:00<00:00, 270kB/s]\n"
          ]
        },
        {
          "output_type": "stream",
          "name": "stdout",
          "text": [
            "Extracting /dataset/FashionMNIST/raw/train-labels-idx1-ubyte.gz to /dataset/FashionMNIST/raw\n",
            "\n",
            "Downloading http://fashion-mnist.s3-website.eu-central-1.amazonaws.com/t10k-images-idx3-ubyte.gz\n",
            "Downloading http://fashion-mnist.s3-website.eu-central-1.amazonaws.com/t10k-images-idx3-ubyte.gz to /dataset/FashionMNIST/raw/t10k-images-idx3-ubyte.gz\n"
          ]
        },
        {
          "output_type": "stream",
          "name": "stderr",
          "text": [
            "100%|██████████| 4.42M/4.42M [00:00<00:00, 5.02MB/s]\n"
          ]
        },
        {
          "output_type": "stream",
          "name": "stdout",
          "text": [
            "Extracting /dataset/FashionMNIST/raw/t10k-images-idx3-ubyte.gz to /dataset/FashionMNIST/raw\n",
            "\n",
            "Downloading http://fashion-mnist.s3-website.eu-central-1.amazonaws.com/t10k-labels-idx1-ubyte.gz\n",
            "Downloading http://fashion-mnist.s3-website.eu-central-1.amazonaws.com/t10k-labels-idx1-ubyte.gz to /dataset/FashionMNIST/raw/t10k-labels-idx1-ubyte.gz\n"
          ]
        },
        {
          "output_type": "stream",
          "name": "stderr",
          "text": [
            "100%|██████████| 5.15k/5.15k [00:00<00:00, 4.54MB/s]"
          ]
        },
        {
          "output_type": "stream",
          "name": "stdout",
          "text": [
            "Extracting /dataset/FashionMNIST/raw/t10k-labels-idx1-ubyte.gz to /dataset/FashionMNIST/raw\n",
            "\n"
          ]
        },
        {
          "output_type": "stream",
          "name": "stderr",
          "text": [
            "\n"
          ]
        }
      ]
    },
    {
      "cell_type": "code",
      "source": [
        "train_dataset"
      ],
      "metadata": {
        "id": "ulGYrsvOtOox",
        "outputId": "f97e5f5c-5843-4e24-a21a-7922c82aaaba",
        "colab": {
          "base_uri": "https://localhost:8080/"
        }
      },
      "execution_count": 3,
      "outputs": [
        {
          "output_type": "execute_result",
          "data": {
            "text/plain": [
              "Dataset FashionMNIST\n",
              "    Number of datapoints: 60000\n",
              "    Root location: /dataset\n",
              "    Split: Train\n",
              "    StandardTransform\n",
              "Transform: ToTensor()"
            ]
          },
          "metadata": {},
          "execution_count": 3
        }
      ]
    },
    {
      "cell_type": "code",
      "source": [
        "test_dataset"
      ],
      "metadata": {
        "id": "OxXv9SrXtQw5",
        "outputId": "3b92a60b-2cf0-43bc-cc31-a585f77bfe5b",
        "colab": {
          "base_uri": "https://localhost:8080/"
        }
      },
      "execution_count": 4,
      "outputs": [
        {
          "output_type": "execute_result",
          "data": {
            "text/plain": [
              "Dataset FashionMNIST\n",
              "    Number of datapoints: 10000\n",
              "    Root location: /dataset\n",
              "    Split: Test\n",
              "    StandardTransform\n",
              "Transform: ToTensor()"
            ]
          },
          "metadata": {},
          "execution_count": 4
        }
      ]
    },
    {
      "cell_type": "code",
      "source": [
        "batch_size = 64\n",
        "\n",
        "train_loader = DataLoader(train_dataset, batch_size, shuffle=True)\n",
        "test_loader = DataLoader(test_dataset, batch_size, shuffle=False)\n"
      ],
      "metadata": {
        "id": "-xl0ztiXtWq_"
      },
      "execution_count": 5,
      "outputs": []
    },
    {
      "cell_type": "code",
      "source": [
        "class NeuralNetwork(nn.Module):\n",
        "  def __init__(self, in_dim,n_hidden_1, n_hidden_2, out_dim):\n",
        "    super().__init__()\n",
        "    self.layer1 = nn.Sequential(\n",
        "        nn.Linear(in_dim, n_hidden_1),\n",
        "        nn.ReLU(True)\n",
        "    )\n",
        "    self.layer2 = nn.Sequential(\n",
        "        nn.Linear(n_hidden_1, n_hidden_2),\n",
        "        nn.ReLU(True)\n",
        "    )\n",
        "    self.layer3 = nn.Sequential(\n",
        "        nn.Linear(n_hidden_2, out_dim),\n",
        "        nn.ReLU(True)\n",
        "    )\n",
        "\n",
        "  def forward(self, x):\n",
        "    x = self.layer1(x)\n",
        "    x = self.layer2(x)\n",
        "    x = self.layer3(x)\n",
        "\n",
        "    return x"
      ],
      "metadata": {
        "id": "y8i7TJsYurat"
      },
      "execution_count": null,
      "outputs": []
    },
    {
      "cell_type": "code",
      "source": [
        "in_dim = 28 * 28 #784\n",
        "n_hidden_1 = 200\n",
        "n_hidden_2 = 200\n",
        "out_dim = 10\n"
      ],
      "metadata": {
        "id": "n4-peynkwlle"
      },
      "execution_count": null,
      "outputs": []
    },
    {
      "cell_type": "code",
      "source": [
        "model = NeuralNetwork(in_dim, n_hidden_1, n_hidden_2, out_dim)"
      ],
      "metadata": {
        "id": "-b2Ij_rPw_ja"
      },
      "execution_count": null,
      "outputs": []
    },
    {
      "cell_type": "code",
      "source": [
        "model.state_dict()"
      ],
      "metadata": {
        "id": "jRnBCt9OxJU2"
      },
      "execution_count": null,
      "outputs": []
    },
    {
      "cell_type": "code",
      "source": [
        "device = \"cuda\" if torch.cuda.is_available() else \"cpu\"\n",
        "device"
      ],
      "metadata": {
        "id": "DCA9NbhhyxdT"
      },
      "execution_count": null,
      "outputs": []
    },
    {
      "cell_type": "code",
      "source": [
        "model = model.to(device)"
      ],
      "metadata": {
        "id": "9VFUCzuPHGOs"
      },
      "execution_count": null,
      "outputs": []
    },
    {
      "cell_type": "code",
      "source": [
        "learning_rate = 1e-3\n",
        "criterion = nn.CrossEntropyLoss()\n",
        "optimizer = torch.optim.SGD(model.parameters(), lr=learning_rate)\n"
      ],
      "metadata": {
        "id": "L3lL07r6HPjk"
      },
      "execution_count": null,
      "outputs": []
    },
    {
      "cell_type": "code",
      "source": [
        "num_epochs = 6\n",
        "\n",
        "for epoch in range(num_epochs):\n",
        "  print(f\"epoch  {epoch + 1}\")\n",
        "  running_loss = 0.0\n",
        "  running_acc = 0.0\n",
        "\n",
        "  for i, data in enumerate(train_loader, 1):\n",
        "    img, label = data\n",
        "    img = img.view(img.size(0), -1)\n",
        "    img = img.to(device)\n",
        "    label = label.to(device)\n",
        "    out = model(img)\n",
        "    loss = criterion(out, label)\n",
        "    running_loss += loss.item()\n",
        "    _, pred = torch.max(out, 1) #64, 10\n",
        "    running_acc += (pred==label).float().mean()\n",
        "    optimizer.zero_grad()\n",
        "    loss.backward()\n",
        "    optimizer.step()\n",
        "\n",
        "    if i % 200 ==0 :\n",
        "      print(f\"epoch {epoch +1 }/ {num_epochs}, loss: {running_loss/i:.6f}, acc: {running_acc/i:.6f}\")\n",
        "\n",
        "  print(f\"Finish: {epoch + 1} epoch, loss: { running_loss/i:.6f}, acc: {running_acc/i:.6f}\")"
      ],
      "metadata": {
        "id": "k6uyqDmdHx1f",
        "outputId": "3611030a-fd4f-4c74-f5f8-b3d21ae7cc8d",
        "colab": {
          "base_uri": "https://localhost:8080/"
        }
      },
      "execution_count": 35,
      "outputs": [
        {
          "output_type": "stream",
          "name": "stdout",
          "text": [
            "epoch  1\n",
            "epoch 1/ 6, loss: 1.912991, acc: 0.398672\n",
            "epoch 1/ 6, loss: 1.906228, acc: 0.397891\n",
            "epoch 1/ 6, loss: 1.899793, acc: 0.398151\n",
            "epoch 1/ 6, loss: 1.889216, acc: 0.400078\n",
            "Finish: 1 epoch, loss: 1.884841, acc: 0.400220\n",
            "epoch  2\n",
            "epoch 2/ 6, loss: 1.837943, acc: 0.415859\n",
            "epoch 2/ 6, loss: 1.835027, acc: 0.415508\n",
            "epoch 2/ 6, loss: 1.827897, acc: 0.416719\n",
            "epoch 2/ 6, loss: 1.820878, acc: 0.418965\n",
            "Finish: 2 epoch, loss: 1.813311, acc: 0.420376\n",
            "epoch  3\n",
            "epoch 3/ 6, loss: 1.761600, acc: 0.428672\n",
            "epoch 3/ 6, loss: 1.745158, acc: 0.440430\n",
            "epoch 3/ 6, loss: 1.736327, acc: 0.454036\n",
            "epoch 3/ 6, loss: 1.725652, acc: 0.464023\n",
            "Finish: 3 epoch, loss: 1.719169, acc: 0.471249\n",
            "epoch  4\n",
            "epoch 4/ 6, loss: 1.684205, acc: 0.511953\n",
            "epoch 4/ 6, loss: 1.667904, acc: 0.520781\n",
            "epoch 4/ 6, loss: 1.660998, acc: 0.523021\n",
            "epoch 4/ 6, loss: 1.652036, acc: 0.523184\n",
            "Finish: 4 epoch, loss: 1.642937, acc: 0.525970\n",
            "epoch  5\n",
            "epoch 5/ 6, loss: 1.605267, acc: 0.534297\n",
            "epoch 5/ 6, loss: 1.598586, acc: 0.537891\n",
            "epoch 5/ 6, loss: 1.590765, acc: 0.536927\n",
            "epoch 5/ 6, loss: 1.586188, acc: 0.536211\n",
            "Finish: 5 epoch, loss: 1.582524, acc: 0.536980\n",
            "epoch  6\n",
            "epoch 6/ 6, loss: 1.550578, acc: 0.542891\n",
            "epoch 6/ 6, loss: 1.548327, acc: 0.540977\n",
            "epoch 6/ 6, loss: 1.543394, acc: 0.543021\n",
            "epoch 6/ 6, loss: 1.539517, acc: 0.542813\n",
            "Finish: 6 epoch, loss: 1.533355, acc: 0.544226\n"
          ]
        }
      ]
    },
    {
      "cell_type": "code",
      "source": [
        "model.eval()\n",
        "eval_loss = 0.0\n",
        "eval_acc = 0.0\n",
        "\n",
        "for data in test_loader:\n",
        "  img, label = data\n",
        "  img = img.view(img.size(0), -1)\n",
        "  img = img.to(device)\n",
        "  label = label.to(device)\n",
        "\n",
        "  with torch.no_grad():\n",
        "    out = model(img)\n",
        "    loss = criterion(out, label)\n",
        "    eval_loss += loss.item()\n",
        "    _, pred = torch.max(out, 1)\n",
        "    eval_acc += (pred==label).float().mean()\n",
        "\n",
        "print(f\"Test Loss: {eval_loss/len(test_loader)}, acc: {eval_acc/len(test_loader)}\")"
      ],
      "metadata": {
        "id": "rh1-OREEKgPU",
        "outputId": "e1ae688b-4cdf-45f8-e978-7bb8967d770f",
        "colab": {
          "base_uri": "https://localhost:8080/"
        }
      },
      "execution_count": 40,
      "outputs": [
        {
          "output_type": "stream",
          "name": "stdout",
          "text": [
            "Test Loss: 1.519580115937883, acc: 0.5425955653190613\n"
          ]
        }
      ]
    },
    {
      "cell_type": "code",
      "source": [
        "images, labels = next(iter(test_loader))\n",
        "images = images.reshape(-1, 28*28).to(device)\n",
        "labels = labels.to(device)\n",
        "outputs = model(images)\n",
        "_, pred = torch.max(outputs, 1)\n",
        "fig, ax = plt.subplots(1, 5, figsize=(15, 3))\n",
        "for i in range(5):\n",
        "  ax[i].imshow(images[i].reshape(28, 28).cpu(), cmap='gray')\n",
        "  ax[i].set_title(f\"True: {labels[i].item()}, Pred: {pred[i].item()}\")\n",
        "  ax[i].axis('off')\n",
        "\n",
        "plt.show()\n"
      ],
      "metadata": {
        "id": "5HheLmMCNFBy",
        "outputId": "8d50ebf6-132f-4694-f6ca-c82fae1d9e17",
        "colab": {
          "base_uri": "https://localhost:8080/",
          "height": 259
        }
      },
      "execution_count": 46,
      "outputs": [
        {
          "output_type": "display_data",
          "data": {
            "text/plain": [
              "<Figure size 1500x300 with 5 Axes>"
            ],
            "image/png": "[encoded data removed]"
          },
          "metadata": {}
        }
      ]
    },
    {
      "cell_type": "code",
      "source": [
        "torch.save(model.state_dict(),'./NeuralNetwork.pth')"
      ],
      "metadata": {
        "id": "vw39kokCQmoY"
      },
      "execution_count": 47,
      "outputs": []
    }
  ]
}