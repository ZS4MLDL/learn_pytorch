{
  "nbformat": 4,
  "nbformat_minor": 0,
  "metadata": {
    "colab": {
      "provenance": [],
      "authorship_tag": "ABX9TyNsqAPemCUt/SwJfwJ/3avd",
      "include_colab_link": true
    },
    "kernelspec": {
      "name": "python3",
      "display_name": "Python 3"
    },
    "language_info": {
      "name": "python"
    }
  },
  "cells": [
    {
      "cell_type": "markdown",
      "metadata": {
        "id": "view-in-github",
        "colab_type": "text"
      },
      "source": [
        "<a href=\"https://colab.research.google.com/github/ZS4MLDL/learn_pytorch/blob/main/02_LogisticRegression.ipynb\" target=\"_parent\"><img src=\"https://colab.research.google.com/assets/colab-badge.svg\" alt=\"Open In Colab\"/></a>"
      ]
    },
    {
      "cell_type": "code",
      "execution_count": 3,
      "metadata": {
        "id": "3l5ZG-4BY0_b"
      },
      "outputs": [],
      "source": [
        "import torch\n",
        "import torch.nn as nn\n",
        "import time\n",
        "import torch.nn.functional as F\n",
        "from torch.utils.data import DataLoader #for batches\n",
        "from torchvision import datasets, transforms\n",
        "import matplotlib.pyplot as plt"
      ]
    },
    {
      "cell_type": "code",
      "source": [
        "train_dataset = datasets.FashionMNIST(root=\"/dataset\", train=True,transform=transforms.ToTensor(), download=True)\n",
        "test_dataset = datasets.FashionMNIST(root=\"/dataset\", train=False, transform=transforms.ToTensor())"
      ],
      "metadata": {
        "id": "6miWQ-9saX_b"
      },
      "execution_count": 5,
      "outputs": []
    },
    {
      "cell_type": "code",
      "source": [
        "train_dataset"
      ],
      "metadata": {
        "colab": {
          "base_uri": "https://localhost:8080/"
        },
        "id": "v65TChl6bsPK",
        "outputId": "bbe37cf5-0f2f-473f-b52b-182a1d5f2625"
      },
      "execution_count": 6,
      "outputs": [
        {
          "output_type": "execute_result",
          "data": {
            "text/plain": [
              "Dataset FashionMNIST\n",
              "    Number of datapoints: 60000\n",
              "    Root location: /dataset\n",
              "    Split: Train\n",
              "    StandardTransform\n",
              "Transform: ToTensor()"
            ]
          },
          "metadata": {},
          "execution_count": 6
        }
      ]
    },
    {
      "cell_type": "code",
      "source": [
        "test_dataset"
      ],
      "metadata": {
        "colab": {
          "base_uri": "https://localhost:8080/"
        },
        "id": "V7R0s7uxbu5Q",
        "outputId": "0563a9da-00d7-4533-a59a-75d60e7c8b48"
      },
      "execution_count": 7,
      "outputs": [
        {
          "output_type": "execute_result",
          "data": {
            "text/plain": [
              "Dataset FashionMNIST\n",
              "    Number of datapoints: 10000\n",
              "    Root location: /dataset\n",
              "    Split: Test\n",
              "    StandardTransform\n",
              "Transform: ToTensor()"
            ]
          },
          "metadata": {},
          "execution_count": 7
        }
      ]
    },
    {
      "cell_type": "code",
      "source": [
        "batch_size = 64\n",
        "\n",
        "train_loader = DataLoader(train_dataset, batch_size, shuffle=True)\n",
        "test_loader = DataLoader(test_dataset, batch_size, shuffle=False)\n"
      ],
      "metadata": {
        "id": "7xN-OYgObv3B"
      },
      "execution_count": 9,
      "outputs": []
    },
    {
      "cell_type": "code",
      "source": [
        "class LogisticRegression(nn.Module):\n",
        "  def __init__(self, in_dim, n_class):\n",
        "    super().__init__()\n",
        "    self.linear = nn.Linear(in_dim, n_class)\n",
        "\n",
        "  def forward(self, x):\n",
        "    out = self.linear(x)\n",
        "    return out"
      ],
      "metadata": {
        "id": "bP3cO4j0d-lx"
      },
      "execution_count": 10,
      "outputs": []
    },
    {
      "cell_type": "code",
      "source": [
        "model = LogisticRegression(28 * 28, 10)\n",
        "model"
      ],
      "metadata": {
        "colab": {
          "base_uri": "https://localhost:8080/"
        },
        "id": "OoNs31hxfdRi",
        "outputId": "4cc174cc-cd08-4e0c-d174-e6f1bf819f9b"
      },
      "execution_count": 11,
      "outputs": [
        {
          "output_type": "execute_result",
          "data": {
            "text/plain": [
              "LogisticRegression(\n",
              "  (linear): Linear(in_features=784, out_features=10, bias=True)\n",
              ")"
            ]
          },
          "metadata": {},
          "execution_count": 11
        }
      ]
    },
    {
      "cell_type": "code",
      "source": [
        "model.state_dict()"
      ],
      "metadata": {
        "colab": {
          "base_uri": "https://localhost:8080/"
        },
        "id": "q46V5fBjfhx_",
        "outputId": "7f221544-9b53-4a0a-b847-192002e329a5"
      },
      "execution_count": 12,
      "outputs": [
        {
          "output_type": "execute_result",
          "data": {
            "text/plain": [
              "OrderedDict([('linear.weight',\n",
              "              tensor([[-0.0272,  0.0035, -0.0129,  ...,  0.0201, -0.0325,  0.0010],\n",
              "                      [-0.0347, -0.0200,  0.0143,  ...,  0.0353, -0.0172, -0.0275],\n",
              "                      [ 0.0007,  0.0237, -0.0025,  ..., -0.0139, -0.0017,  0.0337],\n",
              "                      ...,\n",
              "                      [-0.0331, -0.0086,  0.0026,  ...,  0.0246,  0.0319, -0.0312],\n",
              "                      [-0.0017, -0.0130, -0.0172,  ...,  0.0261,  0.0302, -0.0185],\n",
              "                      [-0.0093, -0.0042, -0.0050,  ..., -0.0121, -0.0199,  0.0332]])),\n",
              "             ('linear.bias',\n",
              "              tensor([ 0.0028, -0.0328, -0.0068, -0.0009,  0.0242, -0.0241, -0.0352, -0.0223,\n",
              "                      -0.0060,  0.0304]))])"
            ]
          },
          "metadata": {},
          "execution_count": 12
        }
      ]
    },
    {
      "cell_type": "code",
      "source": [
        "device = \"cuda\" if torch.cuda.is_available() else 'cpu'\n",
        "device"
      ],
      "metadata": {
        "colab": {
          "base_uri": "https://localhost:8080/",
          "height": 35
        },
        "id": "bmKwpAw-gMG8",
        "outputId": "263b8f01-9233-4af7-bdf6-bea66ff7347e"
      },
      "execution_count": 13,
      "outputs": [
        {
          "output_type": "execute_result",
          "data": {
            "text/plain": [
              "'cpu'"
            ],
            "application/vnd.google.colaboratory.intrinsic+json": {
              "type": "string"
            }
          },
          "metadata": {},
          "execution_count": 13
        }
      ]
    },
    {
      "cell_type": "code",
      "source": [
        "model = model.to(device )"
      ],
      "metadata": {
        "id": "RWln5Uj5gjk5"
      },
      "execution_count": 14,
      "outputs": []
    },
    {
      "cell_type": "code",
      "source": [
        "learning_rate = 1e-3\n",
        "criterion = nn.CrossEntropyLoss()\n",
        "optimizer = torch.optim.SGD(model.parameters(), lr=learning_rate)\n"
      ],
      "metadata": {
        "id": "klQDWUW3g27L"
      },
      "execution_count": 15,
      "outputs": []
    },
    {
      "cell_type": "code",
      "source": [
        "num_epochs = 6\n",
        "\n",
        "for epoch in range(num_epochs):\n",
        "  running_loss = 0.0\n",
        "  running_acc = 0.0\n",
        "  model.train()\n",
        "\n",
        "  for i, data in enumerate(train_loader, 1):\n",
        "    img, label = data\n",
        "    img = img.view(img.size(0), -1)\n",
        "    img = img.to(device)\n",
        "    label = label.to(device)\n",
        "    out = model(img) #forward pass\n",
        "    loss =criterion(out, label)\n",
        "    running_loss+=loss.item()\n",
        "    _, pred = torch.max(out, 1)\n",
        "    running_acc+= (pred==label).float().mean()\n",
        "    optimizer.zero_grad()\n",
        "    loss.backward() #backward pass\n",
        "    optimizer.step()\n",
        "    if i % 300 == 0:\n",
        "      print(f\"[{epoch + 1}/{num_epochs}] loss: {running_loss/i:.6f}, accuracy: {running_acc/i:.6f}\")\n",
        "print(f\"Finish {epoch + 1} epoch, loss:{running_loss/i:.6f}, acc: {running_acc/i:.6f}\" )\n"
      ],
      "metadata": {
        "colab": {
          "base_uri": "https://localhost:8080/"
        },
        "id": "JHQGfq0yhpxy",
        "outputId": "f9eea0f8-c6ea-4a70-f0eb-05e221ccf640"
      },
      "execution_count": 18,
      "outputs": [
        {
          "output_type": "stream",
          "name": "stdout",
          "text": [
            "[1/6] loss: 0.809496, accuracy: 0.745156\n",
            "[1/6] loss: 0.801994, accuracy: 0.747266\n",
            "[1/6] loss: 0.798218, accuracy: 0.748281\n",
            "[2/6] loss: 0.776622, accuracy: 0.754948\n",
            "[2/6] loss: 0.773704, accuracy: 0.757031\n",
            "[2/6] loss: 0.773274, accuracy: 0.755625\n",
            "[3/6] loss: 0.759138, accuracy: 0.761250\n",
            "[3/6] loss: 0.754544, accuracy: 0.762969\n",
            "[3/6] loss: 0.749734, accuracy: 0.764115\n",
            "[4/6] loss: 0.733962, accuracy: 0.767500\n",
            "[4/6] loss: 0.733818, accuracy: 0.768932\n",
            "[4/6] loss: 0.731625, accuracy: 0.769792\n",
            "[5/6] loss: 0.727903, accuracy: 0.767656\n",
            "[5/6] loss: 0.718686, accuracy: 0.772109\n",
            "[5/6] loss: 0.717120, accuracy: 0.773611\n",
            "[6/6] loss: 0.705204, accuracy: 0.777135\n",
            "[6/6] loss: 0.704411, accuracy: 0.777682\n",
            "[6/6] loss: 0.702612, accuracy: 0.778437\n",
            "Finish 6 epoch, loss:0.702039, acc: 0.778601\n"
          ]
        }
      ]
    },
    {
      "cell_type": "code",
      "source": [
        "model.eval()\n",
        "\n",
        "eval_loss = 0.\n",
        "eval_acc = 0.\n",
        "\n",
        "for data in test_loader:\n",
        "  img, label = data\n",
        "  img = img.view(img.size(0),-1)\n",
        "  img= img.to(device)\n",
        "  label = label.to(device)\n",
        "  with torch.no_grad():\n",
        "    out = model(img)\n",
        "    loss = criterion(out,label)\n",
        "\n",
        "  eval_loss+=loss.item()\n",
        "  _,pred = torch.max(out,1)\n",
        "  eval_acc+=(pred==label).float().mean()\n",
        "\n",
        "print(f\"test loss: {eval_loss/len(test_loader):.6f}, acc: {eval_acc/len(test_loader):.6f}\")"
      ],
      "metadata": {
        "colab": {
          "base_uri": "https://localhost:8080/"
        },
        "id": "vsBVaqe3k1MA",
        "outputId": "5ccaa961-feb5-412a-9254-aa199970c54d"
      },
      "execution_count": 26,
      "outputs": [
        {
          "output_type": "stream",
          "name": "stdout",
          "text": [
            "test loss: 0.712332, acc: 0.766421\n"
          ]
        }
      ]
    },
    {
      "cell_type": "code",
      "source": [
        "\n",
        "# Visualizing some predictions\n",
        "images, labels = next(iter(test_loader))\n",
        "images = images.reshape(-1, 28*28).to(device)\n",
        "labels = labels.to(device)\n",
        "outputs = model(images)\n",
        "_, predicted = torch.max(outputs, 1)\n",
        "#fig is a reference to the entire figure.\n",
        "#ax is an array of Axes objects, and each Axes object can be used to draw a plot. Since there are 5 subplots, ax contains 5 such objects.\n",
        "#figsize=(15, 3) sets the size of the entire figure to 15 inches wide and 3 inches tall.\n",
        "fig, ax = plt.subplots(1, 5, figsize=(15, 3)) #The arguments (1, 5) specify that the figure should have 1 row of 5 columns, i.e., 5 subplots aligned horizontally.\n",
        "for i in range(5):\n",
        "    ax[i].imshow(images[i].reshape(28, 28).cpu(), cmap='gray')\n",
        "    ax[i].set_title(f'True: {labels[i].item()}, Pred: {predicted[i].item()}')\n",
        "    ax[i].axis('off')\n",
        "plt.show()"
      ],
      "metadata": {
        "colab": {
          "base_uri": "https://localhost:8080/",
          "height": 259
        },
        "id": "2A9KVJTJurIh",
        "outputId": "abbe0eb3-c693-41de-e57e-27d228ff2ae5"
      },
      "execution_count": 27,
      "outputs": [
        {
          "output_type": "display_data",
          "data": {
            "text/plain": [
              "<Figure size 1500x300 with 5 Axes>"
            ],
            "image/png": "[encoded data removed]"
          },
          "metadata": {}
        }
      ]
    },
    {
      "cell_type": "code",
      "source": [],
      "metadata": {
        "id": "xlpAQLSAxUhF"
      },
      "execution_count": null,
      "outputs": []
    }
  ]
}